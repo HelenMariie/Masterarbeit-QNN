{
 "cells": [
  {
   "cell_type": "markdown",
   "id": "7cf76729",
   "metadata": {},
   "source": [
    "# Preprocessing"
   ]
  },
  {
   "cell_type": "code",
   "execution_count": null,
   "id": "55605fa6",
   "metadata": {},
   "outputs": [],
   "source": [
    "# Importing Libraries\n",
    "\n",
    "import numpy as np\n",
    "import tensorflow as tf\n",
    "import datetime\n",
    "import matplotlib.pyplot as plt\n",
    "import torchvision\n",
    "import pennylane as qml\n",
    "import time\n",
    "import datetime\n",
    "import os\n",
    "import csv\n",
    "from sklearn.model_selection import train_test_split\n",
    "from keras.utils.vis_utils import plot_model\n",
    "from sklearn.datasets import load_digits\n",
    "from pennylane import numpy as p_np\n",
    "from pennylane.templates.state_preparations import MottonenStatePreparation, ArbitraryStatePreparation\n",
    "from pennylane.templates.layers import StronglyEntanglingLayers"
   ]
  },
  {
   "cell_type": "code",
   "execution_count": null,
   "id": "5c23f4de",
   "metadata": {},
   "outputs": [],
   "source": [
    "# Load the digits\n",
    "\n",
    "tf.keras.backend.set_floatx('float64')\n",
    "digits = load_digits()\n",
    "X_train, X_test, y_train, y_test = train_test_split(digits.data, digits.target)\n",
    "y_test_original = y_test"
   ]
  },
  {
   "cell_type": "code",
   "execution_count": null,
   "id": "b4f6dae8",
   "metadata": {},
   "outputs": [],
   "source": [
    "num_classes = 10"
   ]
  },
  {
   "cell_type": "code",
   "execution_count": null,
   "id": "1e22d56c",
   "metadata": {},
   "outputs": [],
   "source": [
    "# Change Y values to categorical\n",
    "y_train = tf.keras.utils.to_categorical(y_train, 10)\n",
    "y_test = tf.keras.utils.to_categorical(y_test, 10)"
   ]
  },
  {
   "cell_type": "markdown",
   "id": "af513e9d",
   "metadata": {},
   "source": [
    "# Compose the circuit"
   ]
  },
  {
   "cell_type": "code",
   "execution_count": null,
   "id": "204c506a",
   "metadata": {},
   "outputs": [],
   "source": [
    "num_qubits = 6\n",
    "num_layers = 4\n",
    "device_name = \"default.qubit\"\n",
    "\n",
    "dev = qml.device(name = device_name, wires = num_qubits)\n",
    "\n",
    "@qml.qnode(dev)\n",
    "def circuit(weights, inputs=None):\n",
    "\n",
    "    # Embedding \n",
    "    qml.AmplitudeEmbedding(inputs, wires = range(num_qubits), normalize=True)\n",
    "    \n",
    "    # Layers\n",
    "    StronglyEntanglingLayers(weights, wires=range(num_qubits))\n",
    "  \n",
    "  # Measurement return\n",
    "    return [qml.expval(qml.PauliZ(i)) for i in range(num_qubits)] "
   ]
  },
  {
   "cell_type": "markdown",
   "id": "29c3ecc6",
   "metadata": {},
   "source": [
    "# Create the QNN"
   ]
  },
  {
   "cell_type": "code",
   "execution_count": null,
   "id": "cea876e4",
   "metadata": {
    "scrolled": true
   },
   "outputs": [],
   "source": [
    "weight_shapes = {\"weights\": (num_layers, num_qubits, 3)}\n",
    "\n",
    "# Model  \n",
    "input_layer = tf.keras.layers.Input(shape=(2 ** num_qubits,), name = \"input\")\n",
    "quantum_layer = qml.qnn.KerasLayer(circuit, weight_shapes, output_dim=num_qubits, name = \"quantum_layer\")(input_layer)\n",
    "output_layer = tf.keras.layers.Dense(num_classes, activation='softmax', name = \"output\")(quantum_layer)\n",
    "\n",
    "# Model creation\n",
    "model = tf.keras.Model(inputs=input_layer, outputs=output_layer, name=\"mnist_quantum_model\")\n",
    "\n",
    "# Model compilation\n",
    "model.compile(\n",
    "  loss='categorical_crossentropy',\n",
    "  optimizer=tf.keras.optimizers.Adam(learning_rate=0.01) ,\n",
    "  metrics=[tf.keras.metrics.CategoricalAccuracy()]\n",
    ")"
   ]
  },
  {
   "cell_type": "code",
   "execution_count": null,
   "id": "bc115631",
   "metadata": {
    "scrolled": true
   },
   "outputs": [],
   "source": [
    "plot_model(model, show_shapes=True, show_layer_names=True)"
   ]
  },
  {
   "cell_type": "markdown",
   "id": "e55f3be6",
   "metadata": {},
   "source": [
    "# Training"
   ]
  },
  {
   "cell_type": "code",
   "execution_count": null,
   "id": "a40ccfd4",
   "metadata": {
    "scrolled": false
   },
   "outputs": [],
   "source": [
    "num_epochs = 5                # Number of epochs\n",
    "\n",
    "start = time.time()\n",
    "train_history = model.fit(X_train, y_train, epochs=num_epochs, batch_size=8, shuffle=True)\n",
    "end = time.time()\n",
    "print(end - start)"
   ]
  },
  {
   "cell_type": "markdown",
   "id": "22c659e8",
   "metadata": {},
   "source": [
    "# Evaluation"
   ]
  },
  {
   "cell_type": "code",
   "execution_count": null,
   "id": "6ca23bb7",
   "metadata": {
    "scrolled": false
   },
   "outputs": [],
   "source": [
    "start = time.time()\n",
    "test_history = model.evaluate(X_test, y_test, batch_size=8)\n",
    "end = time.time()\n",
    "print(end - start)"
   ]
  },
  {
   "cell_type": "code",
   "execution_count": null,
   "id": "0b1276a7",
   "metadata": {},
   "outputs": [],
   "source": [
    "def tensor_to_image(tensor):\n",
    "    tensor = tensor*255\n",
    "    tensor = np.array(tensor, dtype=np.uint8)\n",
    "    if np.ndim(tensor)>3:\n",
    "        assert tensor.shape[0] == 1\n",
    "        tensor = tensor[0]\n",
    "    return PIL.Image.fromarray(tensor)"
   ]
  },
  {
   "cell_type": "code",
   "execution_count": null,
   "id": "b5efef25",
   "metadata": {},
   "outputs": [],
   "source": [
    "predictions = model.predict(X_test)"
   ]
  },
  {
   "cell_type": "code",
   "execution_count": null,
   "id": "04e1cf1b",
   "metadata": {},
   "outputs": [],
   "source": [
    "number = 11\n",
    "\n",
    "bars = ('0', '1', '2', '3', '4', '5', '6', '7', '8', '9')\n",
    "y_pos = np.arange(len(bars))\n",
    "\n",
    "# Create bars\n",
    "plt.bar(y_pos, predictions[number])\n",
    "\n",
    "# Create names on the x-axis\n",
    "plt.xticks(y_pos, bars)\n",
    "\n",
    "# Show graphic\n",
    "plt.show()\n",
    "print(y_test[number])"
   ]
  },
  {
   "cell_type": "code",
   "execution_count": null,
   "id": "6010d87c",
   "metadata": {},
   "outputs": [],
   "source": [
    "data = X_test[number]\n",
    "\n",
    "data = np.reshape(data, (-1, 8))\n",
    "plt.imshow(data*255, cmap='gray')"
   ]
  },
  {
   "cell_type": "markdown",
   "id": "ea4807bb",
   "metadata": {},
   "source": [
    "# Prediction Pictures"
   ]
  },
  {
   "cell_type": "code",
   "execution_count": null,
   "id": "9a7289fa",
   "metadata": {},
   "outputs": [],
   "source": [
    "rows = 3\n",
    "cols = 6\n",
    "\n",
    "counter = 0;\n",
    "for k in range(rows*cols):\n",
    "    plt.subplot(rows, cols, k+1)\n",
    "    #plt.xlabel('Pred: ' + str(np.argmax(predictions[k])))\n",
    "    plt.xlabel('Pred: ' + str(np.argmax(predictions[k])) + '\\nActual: ' + str(y_test_original[k]))\n",
    "    plt.imshow(np.reshape(X_test[k], (-1, 8))*255, cmap='gray')\n",
    "plt.tight_layout()"
   ]
  },
  {
   "cell_type": "code",
   "execution_count": null,
   "id": "872a1078",
   "metadata": {},
   "outputs": [],
   "source": []
  }
 ],
 "metadata": {
  "kernelspec": {
   "display_name": "Python 3 (ipykernel)",
   "language": "python",
   "name": "python3"
  },
  "language_info": {
   "codemirror_mode": {
    "name": "ipython",
    "version": 3
   },
   "file_extension": ".py",
   "mimetype": "text/x-python",
   "name": "python",
   "nbconvert_exporter": "python",
   "pygments_lexer": "ipython3",
   "version": "3.10.11"
  }
 },
 "nbformat": 4,
 "nbformat_minor": 5
}
